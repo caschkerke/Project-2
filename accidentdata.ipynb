{
 "cells": [
  {
   "cell_type": "code",
   "execution_count": null,
   "metadata": {},
   "outputs": [],
   "source": [
    "import pandas as pd\n",
    "import sqlite3\n",
    "import datetime as dt"
   ]
  },
  {
   "cell_type": "code",
   "execution_count": null,
   "metadata": {},
   "outputs": [],
   "source": [
    "#connect to csv file to read data\n",
    "df = pd.read_csv(\"Us_Accidents_Dec19.csv\")"
   ]
  },
  {
   "cell_type": "code",
   "execution_count": null,
   "metadata": {},
   "outputs": [],
   "source": [
    "# redueced traffic dataframe to needed data\n",
    "cleaned_traffic_df=df.drop(columns=['Source','TMC','End_Lat','End_Lng','Distance(mi)',\\\n",
    "                         'Description','Number','Street','Side','County',\\\n",
    "                         'Country','Timezone','Airport_Code','Amenity',\\\n",
    "                         'Sunrise_Sunset','Civil_Twilight','Nautical_Twilight',\\\n",
    "                         'Astronomical_Twilight'])"
   ]
  },
  {
   "cell_type": "code",
   "execution_count": null,
   "metadata": {},
   "outputs": [],
   "source": [
    "cleaned_traffic_df.head()"
   ]
  },
  {
   "cell_type": "code",
   "execution_count": null,
   "metadata": {},
   "outputs": [],
   "source": [
    "cleaned_traffic_df.info()"
   ]
  },
  {
   "cell_type": "code",
   "execution_count": null,
   "metadata": {},
   "outputs": [],
   "source": [
    "#convert date columns to datetime \n",
    "cleaned_traffic_df['Start_Time'] =  pd.to_datetime(cleaned_traffic_df['Start_Time'])\n",
    "cleaned_traffic_df['End_Time'] = pd.to_datetime(cleaned_traffic_df['End_Time'])\n",
    "cleaned_traffic_df['Weather_Timestamp'] = pd.to_datetime(cleaned_traffic_df['Weather_Timestamp'])"
   ]
  },
  {
   "cell_type": "code",
   "execution_count": null,
   "metadata": {},
   "outputs": [],
   "source": [
    "\n",
    "cleaned_traffic_df['Start_Time'] = pd.to_datetime(cleaned_traffic_df['Start_Time'])\n",
    "\n",
    "df_2016= cleaned_traffic_df[cleaned_traffic_df['Start_Time'].dt.year == 2016]"
   ]
  },
  {
   "cell_type": "code",
   "execution_count": null,
   "metadata": {},
   "outputs": [],
   "source": [
    "df_2017= cleaned_traffic_df[cleaned_traffic_df['Start_Time'].dt.year == 2017]"
   ]
  },
  {
   "cell_type": "code",
   "execution_count": null,
   "metadata": {},
   "outputs": [],
   "source": [
    "df_2018= cleaned_traffic_df[cleaned_traffic_df['Start_Time'].dt.year == 2018]"
   ]
  },
  {
   "cell_type": "code",
   "execution_count": null,
   "metadata": {},
   "outputs": [],
   "source": [
    "df_2019= cleaned_traffic_df[cleaned_traffic_df['Start_Time'].dt.year == 2019]"
   ]
  },
  {
   "cell_type": "code",
   "execution_count": null,
   "metadata": {},
   "outputs": [],
   "source": [
    "pd.read_sql('SELECT* from db_2017',conn)"
   ]
  },
  {
   "cell_type": "code",
   "execution_count": null,
   "metadata": {},
   "outputs": [],
   "source": [
    "#create database \n",
    "conn=sqlite3.connect(\"accidents_data.sqlite\")\n",
    "df_2016.to_sql('db_2016',conn,if_exists='replace',index = False)\n",
    "pd.read_sql('SELECT * from db_2016',conn)"
   ]
  },
  {
   "cell_type": "code",
   "execution_count": null,
   "metadata": {},
   "outputs": [],
   "source": [
    "#create database 2017\n",
    "conn=sqlite3.connect(\"database_2017.sqlite\")\n",
    "df_2017.to_sql('db_2017',conn,if_exists='replace',index = False)\n",
    "pd.read_sql('SELECT * from db_2017',conn)"
   ]
  },
  {
   "cell_type": "code",
   "execution_count": null,
   "metadata": {},
   "outputs": [],
   "source": [
    "#create database 2018\n",
    "conn=sqlite3.connect(\"database_2018.sqlite\")\n",
    "df_2018.to_sql('db_2018',conn,if_exists='replace',index = False)\n",
    "pd.read_sql('SELECT * from db_2018',conn)"
   ]
  },
  {
   "cell_type": "code",
   "execution_count": null,
   "metadata": {},
   "outputs": [],
   "source": [
    "#create database 2019\n",
    "conn=sqlite3.connect(\"database_2019.sqlite\")\n",
    "df_2019.to_sql('db_2019',conn,if_exists='replace',index = False)\n",
    "pd.read_sql('SELECT * from db_2019',conn)"
   ]
  },
  {
   "cell_type": "code",
   "execution_count": null,
   "metadata": {},
   "outputs": [],
   "source": []
  }
 ],
 "metadata": {
  "kernelspec": {
   "display_name": "Python 3",
   "language": "python",
   "name": "python3"
  },
  "language_info": {
   "codemirror_mode": {
    "name": "ipython",
    "version": 3
   },
   "file_extension": ".py",
   "mimetype": "text/x-python",
   "name": "python",
   "nbconvert_exporter": "python",
   "pygments_lexer": "ipython3",
   "version": "3.7.4"
  }
 },
 "nbformat": 4,
 "nbformat_minor": 2
}
